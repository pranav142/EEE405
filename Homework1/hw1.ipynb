{
 "cells": [
  {
   "cell_type": "markdown",
   "metadata": {},
   "source": [
    "# Question 4"
   ]
  },
  {
   "cell_type": "code",
   "execution_count": 43,
   "metadata": {},
   "outputs": [],
   "source": [
    "import numpy as np \n",
    "import pandas as pd\n",
    "import sklearn as sk\n",
    "import matplotlib.pyplot as plt"
   ]
  },
  {
   "cell_type": "code",
   "execution_count": 6,
   "metadata": {},
   "outputs": [
    {
     "name": "stdout",
     "output_type": "stream",
     "text": [
      "   A         B         C         D           F\n",
      "0  1  3.718943  3.835133  9.662825   93.886859\n",
      "1  2  0.268707  0.137590  7.481035   79.935159\n",
      "2  3  9.520922  3.114357  8.226973  102.293084\n",
      "3  4  1.737736  2.890177  8.017622   79.688891\n",
      "4  5  3.102865  7.290815  5.851053   41.624044\n"
     ]
    }
   ],
   "source": [
    "df = pd.read_csv(\"regressionprob1_train0.csv\")\n",
    "print(df.head())"
   ]
  },
  {
   "cell_type": "code",
   "execution_count": 7,
   "metadata": {},
   "outputs": [],
   "source": [
    "x = df.iloc[:,0:4].values # features\n",
    "y = df['F'].values # targets\n",
    "\n",
    "ones_ = np.ones(len(y), float)\n",
    "A = np.column_stack((ones_, x)) # Compact notation"
   ]
  },
  {
   "cell_type": "markdown",
   "metadata": {},
   "source": [
    "# Part A"
   ]
  },
  {
   "cell_type": "code",
   "execution_count": 8,
   "metadata": {},
   "outputs": [
    {
     "name": "stdout",
     "output_type": "stream",
     "text": [
      "Intercept: 0.07249080791577711, Weights: [ 2.04773925  3.16044263 -5.09550919 10.20993353]\n"
     ]
    }
   ],
   "source": [
    "weights = np.linalg.inv(A.T @ A) @ A.T @ y\n",
    "print(f\"Intercept: {weights[0]}, Weights: {weights[1:]}\")"
   ]
  },
  {
   "cell_type": "code",
   "execution_count": 9,
   "metadata": {},
   "outputs": [
    {
     "name": "stdout",
     "output_type": "stream",
     "text": [
      "(30,)\n",
      "[ 92.98858543  80.69698017 104.43365258  80.88793124  42.70605605\n",
      "  90.36394555  82.09722011  59.25562004 118.21169194 103.02847761\n",
      " 115.76003371  47.53614789  59.04387237 113.10940271  78.63922945\n",
      "  71.76033573  97.5449218  110.41923748  81.7121738  114.51033564\n",
      "  96.56130035 115.93210541 121.1356666   59.16979915  78.00563573\n",
      " 106.89268191 134.87761102  45.10409608  94.20461591 113.00444563]\n"
     ]
    }
   ],
   "source": [
    "predictions = A @ weights\n",
    "print(predictions.shape)\n",
    "print(predictions)"
   ]
  },
  {
   "cell_type": "code",
   "execution_count": 10,
   "metadata": {},
   "outputs": [
    {
     "name": "stdout",
     "output_type": "stream",
     "text": [
      "0.9969209428506091\n"
     ]
    }
   ],
   "source": [
    "def Rsquared(Y, Yp):\n",
    "    V = Y - Yp\n",
    "    Ymean = np.mean(Y)\n",
    "    totvar = np.sum((Y - Ymean)**2)\n",
    "    unexpvar = np.sum(V**2)\n",
    "    R2 =  1 - unexpvar / totvar\n",
    "    return R2\n",
    "\n",
    "print(Rsquared(y, predictions))"
   ]
  },
  {
   "cell_type": "markdown",
   "metadata": {},
   "source": [
    "# Part B"
   ]
  },
  {
   "cell_type": "code",
   "execution_count": 11,
   "metadata": {},
   "outputs": [
    {
     "name": "stdout",
     "output_type": "stream",
     "text": [
      "Intercept: 0.07249080791624428, Weights: [ 2.04773925  3.16044263 -5.09550919 10.20993353]\n"
     ]
    }
   ],
   "source": [
    "# use np.linalg.solve\n",
    "weights_np = np.linalg.solve(A.T @ A, A.T @ y)\n",
    "print(f\"Intercept: {weights_np[0]}, Weights: {weights_np[1:]}\")"
   ]
  },
  {
   "cell_type": "code",
   "execution_count": 12,
   "metadata": {},
   "outputs": [
    {
     "name": "stdout",
     "output_type": "stream",
     "text": [
      "0.9969209428506091\n"
     ]
    }
   ],
   "source": [
    "predictions_np = A @ weights_np\n",
    "print(Rsquared(y, predictions))"
   ]
  },
  {
   "cell_type": "code",
   "execution_count": 13,
   "metadata": {},
   "outputs": [],
   "source": [
    "test_df = pd.read_csv(\"regressionprob1_test0.csv\")\n",
    "test_x = test_df.iloc[:,0:4].values # features\n",
    "test_y = test_df['F'].values # targets\n",
    "\n",
    "ones_t = np.ones(len(test_y), float)\n",
    "test_A = np.column_stack((ones_t, test_x)) # Compact notation"
   ]
  },
  {
   "cell_type": "code",
   "execution_count": 14,
   "metadata": {},
   "outputs": [],
   "source": [
    "test_pred_np = test_A @ weights_np # weights from np.linalg.solve\n",
    "test_pred = test_A @ weights # weights calculated from scratch"
   ]
  },
  {
   "cell_type": "markdown",
   "metadata": {},
   "source": [
    "# Part C"
   ]
  },
  {
   "cell_type": "code",
   "execution_count": 15,
   "metadata": {},
   "outputs": [
    {
     "name": "stdout",
     "output_type": "stream",
     "text": [
      "Numpy weights error: 0.995269143489581, Hand calculated error: 0.9952691434895813\n"
     ]
    }
   ],
   "source": [
    "print(f\"Numpy weights error: {Rsquared(test_y, test_pred_np)}, Hand calculated error: {Rsquared(test_y, test_pred)}\")"
   ]
  },
  {
   "cell_type": "code",
   "execution_count": 16,
   "metadata": {},
   "outputs": [
    {
     "name": "stdout",
     "output_type": "stream",
     "text": [
      "[[1. ]\n",
      " [0.5]]\n"
     ]
    }
   ],
   "source": [
    "A_q = np.array([[1, 0], [1, 2], [1, 4]])\n",
    "Y_q = np.array([[1], [2], [3]])\n",
    "\n",
    "w = np.linalg.inv(A_q.T @ A_q) @ A_q.T @ Y_q\n",
    "print(w)"
   ]
  },
  {
   "cell_type": "markdown",
   "metadata": {},
   "source": [
    "# Question 5"
   ]
  },
  {
   "cell_type": "code",
   "execution_count": 17,
   "metadata": {},
   "outputs": [
    {
     "name": "stdout",
     "output_type": "stream",
     "text": [
      "Intercept: 0.07253392316876345 Weights: [ 2.04773828  3.16044088 -5.09550883 10.20993016]\n",
      "Rsquared: 0.9969209428504446\n"
     ]
    }
   ],
   "source": [
    "# returns a array of random weights \n",
    "# that matches dimensions of number of \n",
    "# Features in compact notation (including intercept)\n",
    "def initialize_weights(A):\n",
    "    num_feats = A.shape[1]\n",
    "    return np.random.rand(num_feats)\n",
    "    \n",
    "# This function returns the predictions given a \n",
    "# Set of weights in compact notation and X input\n",
    "def forward_prop(weights, A):\n",
    "    return A @ weights\n",
    "\n",
    "# this functions returns the gradient for a given \n",
    "# set of predictions\n",
    "def gradient(predictions, targets, A):\n",
    "    num_samples = len(targets)\n",
    "    return 2 / num_samples * (A.T @ (predictions - targets))\n",
    "\n",
    "weights = initialize_weights(A)\n",
    "alpha = 0.001\n",
    "for i in range(100_000):\n",
    "    predictions = forward_prop(weights, A)\n",
    "    grad = gradient(predictions, y, A)\n",
    "    weights -= alpha * grad\n",
    "\n",
    "predictions = forward_prop(weights, A)\n",
    "print(f\"Intercept: {weights[0]} Weights: {weights[1:]}\")\n",
    "print(\"Rsquared:\", Rsquared(y, predictions))\n"
   ]
  },
  {
   "cell_type": "markdown",
   "metadata": {},
   "source": [
    "# Question 6"
   ]
  },
  {
   "cell_type": "code",
   "execution_count": 21,
   "metadata": {},
   "outputs": [
    {
     "name": "stdout",
     "output_type": "stream",
     "text": [
      "Intercept: 0.07249080791580086, Weights: [ 2.04773925  3.16044263 -5.09550919 10.20993353]\n",
      "Rsquared 0.9969209428506091\n"
     ]
    }
   ],
   "source": [
    "linear_regression = sk.linear_model.LinearRegression(fit_intercept=False)\n",
    "linear_regression.fit(A, y)\n",
    "sklearn_lin_reg_weights = linear_regression.coef_\n",
    "predictions = A @ sklearn_lin_reg_weights \n",
    "print(f\"Intercept: {sklearn_lin_reg_weights[0]}, Weights: {sklearn_lin_reg_weights[1:]}\")\n",
    "print(\"Rsquared\", Rsquared(y, predictions))"
   ]
  },
  {
   "cell_type": "markdown",
   "metadata": {},
   "source": [
    "# Question 7"
   ]
  },
  {
   "cell_type": "code",
   "execution_count": 36,
   "metadata": {},
   "outputs": [
    {
     "name": "stdout",
     "output_type": "stream",
     "text": [
      "(7500, 6) (7500,)\n",
      "(2500, 6) (2500,)\n"
     ]
    },
    {
     "data": {
      "text/html": [
       "<div>\n",
       "<style scoped>\n",
       "    .dataframe tbody tr th:only-of-type {\n",
       "        vertical-align: middle;\n",
       "    }\n",
       "\n",
       "    .dataframe tbody tr th {\n",
       "        vertical-align: top;\n",
       "    }\n",
       "\n",
       "    .dataframe thead th {\n",
       "        text-align: right;\n",
       "    }\n",
       "</style>\n",
       "<table border=\"1\" class=\"dataframe\">\n",
       "  <thead>\n",
       "    <tr style=\"text-align: right;\">\n",
       "      <th></th>\n",
       "      <th>A</th>\n",
       "      <th>B</th>\n",
       "      <th>C</th>\n",
       "      <th>D</th>\n",
       "      <th>E</th>\n",
       "      <th>F</th>\n",
       "      <th>Z</th>\n",
       "    </tr>\n",
       "  </thead>\n",
       "  <tbody>\n",
       "    <tr>\n",
       "      <th>0</th>\n",
       "      <td>0.647364</td>\n",
       "      <td>7.467782</td>\n",
       "      <td>1.466660</td>\n",
       "      <td>2.062003</td>\n",
       "      <td>5.337782</td>\n",
       "      <td>9.666050</td>\n",
       "      <td>1</td>\n",
       "    </tr>\n",
       "    <tr>\n",
       "      <th>1</th>\n",
       "      <td>9.544640</td>\n",
       "      <td>7.289552</td>\n",
       "      <td>8.868504</td>\n",
       "      <td>3.339595</td>\n",
       "      <td>4.878464</td>\n",
       "      <td>4.582934</td>\n",
       "      <td>2</td>\n",
       "    </tr>\n",
       "    <tr>\n",
       "      <th>2</th>\n",
       "      <td>8.932723</td>\n",
       "      <td>4.701631</td>\n",
       "      <td>5.536320</td>\n",
       "      <td>4.155476</td>\n",
       "      <td>0.787116</td>\n",
       "      <td>4.874411</td>\n",
       "      <td>2</td>\n",
       "    </tr>\n",
       "    <tr>\n",
       "      <th>3</th>\n",
       "      <td>7.540367</td>\n",
       "      <td>6.128287</td>\n",
       "      <td>4.339755</td>\n",
       "      <td>9.401661</td>\n",
       "      <td>4.180852</td>\n",
       "      <td>3.354622</td>\n",
       "      <td>6</td>\n",
       "    </tr>\n",
       "    <tr>\n",
       "      <th>4</th>\n",
       "      <td>7.795291</td>\n",
       "      <td>5.888252</td>\n",
       "      <td>9.429903</td>\n",
       "      <td>0.786533</td>\n",
       "      <td>2.469424</td>\n",
       "      <td>6.193429</td>\n",
       "      <td>1</td>\n",
       "    </tr>\n",
       "  </tbody>\n",
       "</table>\n",
       "</div>"
      ],
      "text/plain": [
       "          A         B         C         D         E         F  Z\n",
       "0  0.647364  7.467782  1.466660  2.062003  5.337782  9.666050  1\n",
       "1  9.544640  7.289552  8.868504  3.339595  4.878464  4.582934  2\n",
       "2  8.932723  4.701631  5.536320  4.155476  0.787116  4.874411  2\n",
       "3  7.540367  6.128287  4.339755  9.401661  4.180852  3.354622  6\n",
       "4  7.795291  5.888252  9.429903  0.786533  2.469424  6.193429  1"
      ]
     },
     "execution_count": 36,
     "metadata": {},
     "output_type": "execute_result"
    }
   ],
   "source": [
    "##################################\n",
    "# This code is to prepare the data\n",
    "##################################\n",
    "df = pd.read_csv('randPolyN2.csv')\n",
    "x = df.iloc[:,0:6].values\n",
    "y = df['Z']\n",
    "\n",
    "# Split the data into a train and test split\n",
    "X_train, X_test, Y_train, Y_test = sk.model_selection.train_test_split(x, y, test_size=0.25) \n",
    "print(X_train.shape, Y_train.shape)\n",
    "print(X_test.shape, Y_test.shape)\n",
    "\n",
    "scaler = sk.preprocessing.StandardScaler()\n",
    "scaler.fit(X_train)\n",
    "\n",
    "X_train_std = scaler.transform(X_train)\n",
    "X_test_std = scaler.transform(X_test)\n",
    "\n",
    "# Standardize our data\n",
    "df.head()"
   ]
  },
  {
   "cell_type": "code",
   "execution_count": 44,
   "metadata": {},
   "outputs": [],
   "source": [
    "def scatter_plot_train_test(y_train, y_test, test_predictions, train_predictions):\n",
    "    plt.figure(figsize=(12, 6))\n",
    "    \n",
    "    # Training data scatter plot\n",
    "    plt.subplot(1, 2, 1)\n",
    "    plt.scatter(y_train, train_predictions, alpha=0.7)\n",
    "    plt.plot([min(y_train), max(y_train)], [min(y_train), max(y_train)], color='red', linestyle='--')\n",
    "    plt.title(\"Training Data: True vs Predicted\")\n",
    "    plt.xlabel(\"True Values\")\n",
    "    plt.ylabel(\"Predicted Values\")\n",
    "    plt.grid()\n",
    "    \n",
    "    # Test data scatter plot\n",
    "    plt.subplot(1, 2, 2)\n",
    "    plt.scatter(y_test, test_predictions, alpha=0.7)\n",
    "    plt.plot([min(y_test), max(y_test)], [min(y_test), max(y_test)], color='red', linestyle='--')\n",
    "    plt.title(\"Test Data: True vs Predicted\")\n",
    "    plt.xlabel(\"True Values\")\n",
    "    plt.ylabel(\"Predicted Values\")\n",
    "    plt.grid()\n",
    "    \n",
    "    plt.tight_layout()\n",
    "    plt.show()"
   ]
  },
  {
   "cell_type": "markdown",
   "metadata": {},
   "source": [
    "## Linear Regression"
   ]
  },
  {
   "cell_type": "code",
   "execution_count": 46,
   "metadata": {},
   "outputs": [
    {
     "name": "stdout",
     "output_type": "stream",
     "text": [
      "Train Rsquared: 0.8818904389359805\n",
      "Test Rsquared: 0.874651324740672\n"
     ]
    }
   ],
   "source": [
    "regr_model = sk.linear_model.LinearRegression()\n",
    "regr_model.fit(X_train_std, Y_train)\n",
    "train_predictions = regr_model.predict(X_train_std)\n",
    "print(f\"Train Rsquared: {Rsquared(Y_train, train_predictions)}\")\n",
    "\n",
    "test_predictions = regr_model.predict(X_test_std)\n",
    "print(f\"Test Rsquared: {Rsquared(Y_test, test_predictions)}\")\n",
    "\n",
    "# TODO: Add Scatter Plots"
   ]
  },
  {
   "cell_type": "markdown",
   "metadata": {},
   "source": [
    "## Lasso"
   ]
  },
  {
   "cell_type": "code",
   "execution_count": 53,
   "metadata": {},
   "outputs": [
    {
     "name": "stdout",
     "output_type": "stream",
     "text": [
      "Train Rsquared: 0.878308552087525\n",
      "Test Rsquared: 0.8693891229706033\n"
     ]
    }
   ],
   "source": [
    "lasso = sk.linear_model.Lasso(alpha = 0.1)\n",
    "model = lasso.fit(X_train_std, Y_train)\n",
    "\n",
    "train_predictions = model.predict(X_train_std)\n",
    "print(f\"Train Rsquared: {Rsquared(Y_train, train_predictions)}\")\n",
    "\n",
    "test_predictions = model.predict(X_test_std)\n",
    "print(f\"Test Rsquared: {Rsquared(Y_test, test_predictions)}\")"
   ]
  },
  {
   "cell_type": "markdown",
   "metadata": {},
   "source": [
    "## Ridge"
   ]
  },
  {
   "cell_type": "code",
   "execution_count": 54,
   "metadata": {},
   "outputs": [
    {
     "name": "stdout",
     "output_type": "stream",
     "text": [
      "Train Rsquared: 0.8818904387783183\n",
      "Test Rsquared: 0.8746509569025678\n"
     ]
    }
   ],
   "source": [
    "ridge = sk.linear_model.Ridge(alpha = 0.1)\n",
    "model = ridge.fit(X_train_std, Y_train)\n",
    "\n",
    "train_predictions = model.predict(X_train_std)\n",
    "print(f\"Train Rsquared: {Rsquared(Y_train, train_predictions)}\")\n",
    "\n",
    "test_predictions = model.predict(X_test_std)\n",
    "print(f\"Test Rsquared: {Rsquared(Y_test, test_predictions)}\")"
   ]
  },
  {
   "cell_type": "markdown",
   "metadata": {},
   "source": [
    "## Elastic Net"
   ]
  },
  {
   "cell_type": "code",
   "execution_count": 59,
   "metadata": {},
   "outputs": [
    {
     "name": "stdout",
     "output_type": "stream",
     "text": [
      "Train Rsquared: 0.8763020500834879\n",
      "Test Rsquared: 0.8669079220298453\n"
     ]
    }
   ],
   "source": [
    "elastic = sk.linear_model.ElasticNet(alpha = 0.1)\n",
    "model = elastic.fit(X_train_std, Y_train)\n",
    "\n",
    "train_predictions = model.predict(X_train_std)\n",
    "print(f\"Train Rsquared: {Rsquared(Y_train, train_predictions)}\")\n",
    "\n",
    "test_predictions = model.predict(X_test_std)\n",
    "print(f\"Test Rsquared: {Rsquared(Y_test, test_predictions)}\")"
   ]
  },
  {
   "cell_type": "markdown",
   "metadata": {},
   "source": [
    "# Question 8"
   ]
  },
  {
   "cell_type": "code",
   "execution_count": 62,
   "metadata": {},
   "outputs": [
    {
     "name": "stdout",
     "output_type": "stream",
     "text": [
      "Degree: 1\n",
      "Train Rsquared: 0.8818904387783183\n",
      "Test Rsquared: 0.8746509569025678\n",
      "Degree: 2\n",
      "Train Rsquared: 0.8908844507482487\n",
      "Test Rsquared: 0.8807133109435902\n",
      "Degree: 3\n",
      "Train Rsquared: 0.9688847944919823\n",
      "Test Rsquared: 0.9669119467939008\n",
      "Degree: 4\n",
      "Train Rsquared: 0.9725306127988732\n",
      "Test Rsquared: 0.9691940286621716\n",
      "Degree: 5\n",
      "Train Rsquared: 0.9870027183426098\n",
      "Test Rsquared: 0.9853099908517586\n"
     ]
    }
   ],
   "source": [
    "\n",
    "def create_model(degree):\n",
    "    return sk.pipeline.make_pipeline(sk.preprocessing.PolynomialFeatures(degree), sk.linear_model.Ridge(alpha=0.1))\n",
    "\n",
    "for i in range(1, 6):\n",
    "    print(\"Degree:\", i)\n",
    "\n",
    "    model = create_model(i)\n",
    "    model = model.fit(X_train_std, Y_train)\n",
    "    train_predictions = model.predict(X_train_std)\n",
    "    print(f\"Train Rsquared: {Rsquared(Y_train, train_predictions)}\")\n",
    "\n",
    "    test_predictions = model.predict(X_test_std)\n",
    "    print(f\"Test Rsquared: {Rsquared(Y_test, test_predictions)}\")"
   ]
  },
  {
   "cell_type": "code",
   "execution_count": null,
   "metadata": {},
   "outputs": [],
   "source": []
  }
 ],
 "metadata": {
  "kernelspec": {
   "display_name": "Python 3",
   "language": "python",
   "name": "python3"
  },
  "language_info": {
   "codemirror_mode": {
    "name": "ipython",
    "version": 3
   },
   "file_extension": ".py",
   "mimetype": "text/x-python",
   "name": "python",
   "nbconvert_exporter": "python",
   "pygments_lexer": "ipython3",
   "version": "3.11.0"
  }
 },
 "nbformat": 4,
 "nbformat_minor": 2
}
