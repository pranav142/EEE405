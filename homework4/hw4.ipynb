{
 "cells": [
  {
   "cell_type": "markdown",
   "metadata": {},
   "source": [
    "# Homework 4"
   ]
  },
  {
   "cell_type": "code",
   "execution_count": 209,
   "metadata": {},
   "outputs": [],
   "source": [
    "from sklearn import datasets\n",
    "from sklearn.preprocessing import OneHotEncoder, StandardScaler\n",
    "from sklearn.model_selection import train_test_split\n",
    "from sklearn.linear_model import LogisticRegression\n",
    "import numpy as np\n",
    "import matplotlib.pyplot as plt\n",
    "from sklearn.metrics import confusion_matrix, accuracy_score"
   ]
  },
  {
   "cell_type": "markdown",
   "metadata": {},
   "source": [
    "## Problem 4"
   ]
  },
  {
   "cell_type": "markdown",
   "metadata": {},
   "source": []
  },
  {
   "cell_type": "code",
   "execution_count": 193,
   "metadata": {},
   "outputs": [
    {
     "name": "stdout",
     "output_type": "stream",
     "text": [
      "X_train_scaled shape: (120, 5)\n",
      "y_train shape: (120, 3)\n",
      "X_test_scaled shape: (30, 5)\n",
      "y_test shape: (30, 3)\n"
     ]
    }
   ],
   "source": [
    "iris = datasets.load_iris()\n",
    "X_ = iris.data \n",
    "y = iris.target\n",
    "Fones = np.ones(X_.shape[0], dtype=float)\n",
    "X = np.column_stack((Fones, X_))\n",
    "\n",
    "def onehot(y):\n",
    "    one_hot_encoder = OneHotEncoder(sparse_output=False)\n",
    "    integer_encoded = y.reshape(len(y), 1)\n",
    "    one_hot_encoded = one_hot_encoder.fit_transform(integer_encoded)\n",
    "    return one_hot_encoded\n",
    "\n",
    "\n",
    "X_train, X_test, y_train, y_test = train_test_split(\n",
    "    X, \n",
    "    y, \n",
    "    test_size=0.2, \n",
    "    random_state=42\n",
    ")\n",
    "\n",
    "scaler = StandardScaler()\n",
    "X_train_scaled = scaler.fit_transform(X_train)\n",
    "\n",
    "X_test_scaled = scaler.transform(X_test)\n",
    "\n",
    "encoded_y_train = onehot(y_train)\n",
    "encoded_y_test = onehot(y_test)\n",
    "\n",
    "print(\"X_train_scaled shape:\", X_train_scaled.shape)\n",
    "print(\"y_train shape:\", encoded_y_train.shape)\n",
    "print(\"X_test_scaled shape:\", X_test_scaled.shape)\n",
    "print(\"y_test shape:\", encoded_y_test.shape)"
   ]
  },
  {
   "cell_type": "code",
   "execution_count": null,
   "metadata": {},
   "outputs": [],
   "source": [
    "def activation(Z):\n",
    "    act = np.ones(Z.shape, dtype=float)\n",
    "    for i, z in enumerate(Z):\n",
    "        act[i] = 1 / (1. + np.exp(-np.clip(z, -250, 250)))\n",
    "    \n",
    "    return act"
   ]
  },
  {
   "cell_type": "code",
   "execution_count": 216,
   "metadata": {},
   "outputs": [
    {
     "name": "stdout",
     "output_type": "stream",
     "text": [
      "Weights:\n",
      " [[ 0.11751731  0.66320312  0.42809341]\n",
      " [-0.53722544 -0.13662996 -0.44074124]\n",
      " [ 6.770084   -1.08741446  0.9892237 ]\n",
      " [-8.4444322   1.44202318 -0.35318987]\n",
      " [-7.26496016 -1.90436463  3.61396504]]\n"
     ]
    }
   ],
   "source": [
    "def initialize_weights(num_features):\n",
    "    return np.random.rand(num_features, 3)\n",
    "\n",
    "def binary_cross_entropy_cost(predictions, targets):\n",
    "    eps = 1e-15\n",
    "    predictions = np.clip(predictions, eps, 1 - eps)\n",
    "    return (-(1 - targets) * np.log(1 - predictions) - (targets) * np.log(predictions)) / len(predictions)\n",
    "\n",
    "def binary_cross_entropy_grad(predictions, targets, X): \n",
    "    return 1 / len(predictions) * X.T @ (predictions - targets) \n",
    "\n",
    "def linear(X, w):\n",
    "    return X @ w\n",
    "\n",
    "w = initialize_weights(X_train_scaled.shape[1])\n",
    "MAX_ITERATIONS = 500\n",
    "i = 0\n",
    "alpha = 0.1\n",
    "errors = []\n",
    "\n",
    "while (i < MAX_ITERATIONS):\n",
    "    total_cost = 0\n",
    "    for _example, _target in zip(X_train_scaled, encoded_y_train):\n",
    "        example = _example[np.newaxis, :]\n",
    "        target = _target[np.newaxis, :]\n",
    "        preds = activation(linear(example, w))\n",
    "        cost = binary_cross_entropy_cost(preds, target)\n",
    "        total_cost += cost[0]\n",
    "        grad = binary_cross_entropy_grad(preds, target, example)\n",
    "        w -= grad * alpha\n",
    "    total_cost /= len(X_train_scaled)\n",
    "    errors.append(total_cost)\n",
    "    i += 1\n",
    "\n",
    "errors = np.array(errors)\n",
    "print(f\"Weights:\\n {w}\")"
   ]
  },
  {
   "cell_type": "code",
   "execution_count": 217,
   "metadata": {},
   "outputs": [
    {
     "data": {
      "image/png": "[encoded data removed]",
      "text/plain": [
       "<Figure size 800x500 with 1 Axes>"
      ]
     },
     "metadata": {},
     "output_type": "display_data"
    }
   ],
   "source": [
    "num_epochs = len(errors)\n",
    "epochs = np.arange(num_epochs)\n",
    "\n",
    "plt.figure(figsize=(8, 5))\n",
    "\n",
    "# Plot each class separately\n",
    "plt.plot(epochs, errors[:, 0], label='Class 0')\n",
    "plt.plot(epochs, errors[:, 1], label='Class 1')\n",
    "plt.plot(epochs, errors[:, 2], label='Class 2')\n",
    "\n",
    "plt.xlabel('Epoch')\n",
    "plt.ylabel('Cost')\n",
    "plt.title('Cost per Class over Training Epochs')\n",
    "plt.legend()\n",
    "plt.show()"
   ]
  },
  {
   "cell_type": "code",
   "execution_count": 220,
   "metadata": {},
   "outputs": [
    {
     "name": "stdout",
     "output_type": "stream",
     "text": [
      "Train missclassifications: 17\n",
      "Accuracy: 85.83333333333333 %\n",
      "Train number in each class down vs number in each known class across \n",
      "confusion matrix \n",
      " 0 1 2\n",
      " [[40  0  0]\n",
      " [ 0 27  3]\n",
      " [ 0 14 36]]\n",
      "Test missclassifications: 4\n",
      "Accuracy: 86.66666666666667 %\n",
      "Test number in each class down vs number in each known class across \n",
      "confusion matrix \n",
      " 0 1 2\n",
      " [[10  0  0]\n",
      " [ 0  6  1]\n",
      " [ 0  3 10]]\n"
     ]
    }
   ],
   "source": [
    "# Train results\n",
    "def num_misslassifications(preds, targets):\n",
    "    pred_classes = np.argmax(preds, axis=1)\n",
    "    true_classes = np.argmax(targets, axis=1)\n",
    "    return np.sum(pred_classes != true_classes)\n",
    "\n",
    "preds = activation(linear(X_train_scaled, w))\n",
    "misclassifies = num_misslassifications(preds, encoded_y_train)\n",
    "print(f\"Train missclassifications: {misclassifies}\")\n",
    "print(f\"Accuracy: {(len(preds) - misclassifies) / len(preds) * 100} %\")\n",
    "\n",
    "cm = confusion_matrix(np.argmax(encoded_y_train, axis=1),np.argmax(preds, axis=1), labels=[0, 1, 2])\n",
    "print('Train number in each class down vs number in each known class across ')\n",
    "print('confusion matrix \\n 0 1 2\\n', cm.T)\n",
    "\n",
    "\n",
    "preds = activation(linear(X_test_scaled, w))\n",
    "misclassifies = num_misslassifications(preds, encoded_y_test)\n",
    "print(f\"Test missclassifications: {misclassifies}\")\n",
    "print(f\"Accuracy: {(len(preds) - misclassifies) / len(preds) * 100} %\")\n",
    "\n",
    "cm = confusion_matrix(np.argmax(encoded_y_test, axis=1),np.argmax(preds, axis=1), labels=[0, 1, 2])\n",
    "print('Test number in each class down vs number in each known class across ')\n",
    "print('confusion matrix \\n 0 1 2\\n', cm.T)\n",
    "\n"
   ]
  },
  {
   "cell_type": "code",
   "execution_count": 222,
   "metadata": {},
   "outputs": [
    {
     "name": "stdout",
     "output_type": "stream",
     "text": [
      "Train Accuracy: 0.97\n",
      "Test Accuracy: 1.00\n",
      "[[ 0.         -1.00316587  1.14487318 -1.8113482  -1.69251025]\n",
      " [ 0.          0.52799044 -0.28319987 -0.34060665 -0.72013959]\n",
      " [ 0.          0.47517543 -0.86167331  2.15195485  2.41264984]]\n"
     ]
    }
   ],
   "source": [
    "lr = LogisticRegression()\n",
    "lr.fit(X_train_scaled, y_train)\n",
    "\n",
    "y_pred = lr.predict(X_train_scaled)\n",
    "accuracy = accuracy_score(y_train, y_pred)\n",
    "print(f'Train Accuracy: {accuracy:.2f}')\n",
    "\n",
    "y_pred = lr.predict(X_test_scaled)\n",
    "accuracy = accuracy_score(y_test, y_pred)\n",
    "print(f'Test Accuracy: {accuracy:.2f}')\n",
    "\n",
    "print(lr.coef_)"
   ]
  },
  {
   "cell_type": "code",
   "execution_count": null,
   "metadata": {},
   "outputs": [],
   "source": []
  }
 ],
 "metadata": {
  "kernelspec": {
   "display_name": "Python 3",
   "language": "python",
   "name": "python3"
  },
  "language_info": {
   "codemirror_mode": {
    "name": "ipython",
    "version": 3
   },
   "file_extension": ".py",
   "mimetype": "text/x-python",
   "name": "python",
   "nbconvert_exporter": "python",
   "pygments_lexer": "ipython3",
   "version": "3.11.0"
  }
 },
 "nbformat": 4,
 "nbformat_minor": 2
}
