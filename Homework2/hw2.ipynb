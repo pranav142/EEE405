{
 "cells": [
  {
   "cell_type": "markdown",
   "metadata": {},
   "source": [
    "# Homework 2"
   ]
  },
  {
   "cell_type": "code",
   "execution_count": 13,
   "metadata": {},
   "outputs": [],
   "source": [
    "import numpy as np\n",
    "import matplotlib.pyplot as plt\n",
    "from sklearn.metrics import accuracy_score\n",
    "from sklearn.model_selection import train_test_split\n",
    "from sklearn.preprocessing import StandardScaler\n",
    "from sklearn.linear_model import Perceptron\n",
    "import pandas as pd"
   ]
  },
  {
   "cell_type": "markdown",
   "metadata": {},
   "source": [
    "## Problem 2"
   ]
  },
  {
   "cell_type": "code",
   "execution_count": 14,
   "metadata": {},
   "outputs": [
    {
     "name": "stdout",
     "output_type": "stream",
     "text": [
      "[[ 1 -2  4 -1]\n",
      " [ 1  4  1 -1]\n",
      " [ 1  1  6 -1]\n",
      " [ 1  2  4 -1]\n",
      " [ 1  6  2 -1]]\n",
      "[[-1]\n",
      " [-1]\n",
      " [ 1]\n",
      " [ 1]\n",
      " [ 1]]\n"
     ]
    }
   ],
   "source": [
    "dataset = np.array([[1, -2, 4, -1, -1], \n",
    "           [1, 4, 1, -1, -1],\n",
    "           [1, 1, 6, -1, 1],\n",
    "           [1, 2, 4, -1, 1],\n",
    "           [1, 6, 2, -1, 1]])\n",
    "\n",
    "y = dataset[:,-1:]\n",
    "A = dataset[:,:-1]\n",
    "print(A)\n",
    "print(y)"
   ]
  },
  {
   "cell_type": "code",
   "execution_count": 15,
   "metadata": {},
   "outputs": [
    {
     "name": "stdout",
     "output_type": "stream",
     "text": [
      "Iteration: 0\n",
      "Cost: 0\n",
      "Predictions:\n",
      " [[2.30407071]\n",
      " [0.39627111]\n",
      " [3.65666982]\n",
      " [2.35020369]\n",
      " [1.07833729]]\n",
      "Weights:\n",
      " [[0.14017589]\n",
      " [0.01153324]\n",
      " [0.65899969]\n",
      " [0.44903745]]\n",
      "\n",
      "Iteration: 1\n",
      "Cost: 1\n",
      "Predictions:\n",
      " [[1.70407071]\n",
      " [0.09627111]\n",
      " [2.85666982]\n",
      " [1.75020369]\n",
      " [0.67833729]]\n",
      "Weights:\n",
      " [[0.04017589]\n",
      " [0.01153324]\n",
      " [0.55899969]\n",
      " [0.54903745]]\n",
      "\n",
      "Iteration: 2\n",
      "Cost: 2\n",
      "Predictions:\n",
      " [[ 2.10407071]\n",
      " [-0.40372889]\n",
      " [ 3.15666982]\n",
      " [ 1.75020369]\n",
      " [ 0.07833729]]\n",
      "Weights:\n",
      " [[-0.05982411]\n",
      " [-0.08846676]\n",
      " [ 0.65899969]\n",
      " [ 0.64903745]]\n",
      "\n",
      "Iteration: 3\n",
      "Cost: 3\n",
      "Predictions:\n",
      " [[-0.09592929]\n",
      " [-0.20372889]\n",
      " [ 0.75666982]\n",
      " [ 0.35020369]\n",
      " [ 0.27833729]]\n",
      "Weights:\n",
      " [[-0.15982411]\n",
      " [ 0.11153324]\n",
      " [ 0.25899969]\n",
      " [ 0.74903745]]\n",
      "\n",
      "Iteration: 4\n",
      "Cost: 4\n",
      "Predictions:\n",
      " [[-0.09592929]\n",
      " [-0.20372889]\n",
      " [ 0.75666982]\n",
      " [ 0.35020369]\n",
      " [ 0.27833729]]\n",
      "Weights:\n",
      " [[-0.15982411]\n",
      " [ 0.11153324]\n",
      " [ 0.25899969]\n",
      " [ 0.74903745]]\n",
      "\n"
     ]
    }
   ],
   "source": [
    "def initialize_weights(num_features):\n",
    "    return np.random.rand(num_features, 1)\n",
    "\n",
    "def perceptron_forward_pass(A, weights):\n",
    "    return A @ weights\n",
    "\n",
    "def perceptron_cost(y_preds, y): \n",
    "    return 1 / len(y) * np.sum((-y_preds * y))\n",
    "\n",
    "def perceptron_gradient(cost, A, y):\n",
    "    return -A.T * y\n",
    "\n",
    "weights = initialize_weights(A.shape[1])\n",
    "alpha = 0.1\n",
    "costs = []\n",
    "for i in range(50):\n",
    "    cost = 0\n",
    "    for _example, _target in zip(A, y):\n",
    "\n",
    "        # Adds a dimention since we lose one\n",
    "        example = _example[np.newaxis, :]\n",
    "        target = _target[:, np.newaxis]\n",
    "\n",
    "        prediction = perceptron_forward_pass(example, weights)\n",
    "        error = perceptron_cost(prediction, target)\n",
    "\n",
    "        if (error > 0):\n",
    "            cost += error\n",
    "            gradient = perceptron_gradient(error, example, target)\n",
    "            weights -= alpha * gradient\n",
    "\n",
    "    print(f\"Iteration: {i}\")\n",
    "    print(f\"Cost: {i}\")\n",
    "    print(f\"Predictions:\\n {perceptron_forward_pass(A, weights)}\")\n",
    "    print(f\"Weights:\\n {weights}\\n\")\n",
    "\n",
    "    costs.append(cost)\n",
    "    if (cost == 0):\n",
    "        break\n"
   ]
  },
  {
   "cell_type": "code",
   "execution_count": 16,
   "metadata": {},
   "outputs": [
    {
     "data": {
      "image/png": "[encoded data removed]",
      "text/plain": [
       "<Figure size 640x480 with 1 Axes>"
      ]
     },
     "metadata": {},
     "output_type": "display_data"
    }
   ],
   "source": [
    "def plot_costs(costs):\n",
    "    plt.plot(costs)\n",
    "    plt.title(\"Perceptron Cost Per Iteration\")\n",
    "    plt.xlabel(\"Iteration\")\n",
    "    plt.ylabel(\"Cost\")\n",
    "    plt.show()\n",
    "\n",
    "plot_costs(costs)"
   ]
  },
  {
   "cell_type": "code",
   "execution_count": 17,
   "metadata": {},
   "outputs": [
    {
     "name": "stdout",
     "output_type": "stream",
     "text": [
      "Accuracy:1.00 \n",
      "Num misclassified: 0\n"
     ]
    }
   ],
   "source": [
    "def quantizer(predictions):\n",
    "    quantized_preds = []\n",
    "    for prediction in predictions: \n",
    "        if (prediction < 0):\n",
    "            quantized_preds.append(-1)\n",
    "        else:\n",
    "            quantized_preds.append(1)\n",
    "    return quantized_preds\n",
    "\n",
    "predictions = perceptron_forward_pass(A, weights)\n",
    "quant_preds = quantizer(predictions)\n",
    "\n",
    "print(\"Accuracy:%.2f \" %accuracy_score(y, quant_preds))\n",
    "\n",
    "num_mis_classified = 0\n",
    "for pred, target in zip(quant_preds, y):\n",
    "    if pred != target:\n",
    "        num_mis_classified += 1\n",
    "\n",
    "print(f\"Num misclassified: {num_mis_classified}\")"
   ]
  },
  {
   "cell_type": "markdown",
   "metadata": {},
   "source": [
    "## Problem 4 & Problem 5"
   ]
  },
  {
   "cell_type": "code",
   "execution_count": 18,
   "metadata": {},
   "outputs": [],
   "source": [
    "def get_data(csv_path):\n",
    "    df = pd.read_csv(csv_path)\n",
    "    x = df.iloc[:,0:3].values\n",
    "    y = np.array(df['y'])\n",
    "    y = y[:, np.newaxis]\n",
    "\n",
    "    # Split the data into a train and test split\n",
    "    X_train, X_test, Y_train, Y_test = train_test_split(x, y, test_size=1/3) \n",
    "\n",
    "    scaler = StandardScaler()\n",
    "    scaler.fit(X_train)\n",
    "\n",
    "    X_train_std = scaler.transform(X_train)\n",
    "    X_test_std = scaler.transform(X_test)\n",
    "\n",
    "    # Compact Notation\n",
    "    ones_ = np.ones(len(Y_train), float)\n",
    "    A_train = np.column_stack((ones_, X_train_std))\n",
    "\n",
    "    ones_ = np.ones(len(Y_test))\n",
    "    A_test = np.column_stack((ones_, X_test_std))\n",
    "    return A_train, A_test, Y_train, Y_test\n",
    "\n",
    "def mse_cost(Y_pred, Y):\n",
    "    error = (Y_pred - Y) ** 2\n",
    "    return np.sum(error) / len(Y)\n",
    "\n",
    "def adaline_gradient(Y_pred, A, Y):\n",
    "    return 2 / len(Y) * (A.T @ (Y_pred - Y))"
   ]
  },
  {
   "cell_type": "markdown",
   "metadata": {},
   "source": [
    "## Dataset 1"
   ]
  },
  {
   "cell_type": "code",
   "execution_count": 19,
   "metadata": {},
   "outputs": [
    {
     "name": "stdout",
     "output_type": "stream",
     "text": [
      "Iteration: 0, Total Error: 1.7331610548081964\n",
      "Iteration: 1, Total Error: 1.2249683841768937\n",
      "Iteration: 2, Total Error: 0.9008139629741095\n",
      "Iteration: 3, Total Error: 0.6940144939926491\n",
      "Iteration: 4, Total Error: 0.5620610505826148\n",
      "Iteration: 5, Total Error: 0.4778506411541736\n",
      "Iteration: 6, Total Error: 0.4240998998463296\n",
      "Iteration: 7, Total Error: 0.38978548205325003\n",
      "Iteration: 8, Total Error: 0.3678754930345799\n",
      "Iteration: 9, Total Error: 0.35388345849122343\n",
      "Iteration: 10, Total Error: 0.3449464415915284\n",
      "Iteration: 11, Total Error: 0.3392372174527847\n",
      "Iteration: 12, Total Error: 0.33558939076003663\n",
      "Iteration: 13, Total Error: 0.3332582759688172\n",
      "Iteration: 14, Total Error: 0.3317683481219119\n",
      "Iteration: 15, Total Error: 0.3308159058374667\n",
      "Iteration: 16, Total Error: 0.3302069529739153\n",
      "Iteration: 17, Total Error: 0.3298175493628415\n",
      "Iteration: 18, Total Error: 0.329568498955316\n",
      "Iteration: 19, Total Error: 0.32940918815993203\n",
      "Iteration: 20, Total Error: 0.3293072648564703\n",
      "Iteration: 21, Total Error: 0.32924204621187714\n",
      "Iteration: 22, Total Error: 0.3292003074384601\n",
      "Iteration: 23, Total Error: 0.32917359110454486\n",
      "Iteration: 24, Total Error: 0.32915648768573535\n",
      "Iteration: 25, Total Error: 0.3291455365920819\n",
      "Iteration: 26, Total Error: 0.32913852365167756\n",
      "Iteration: 27, Total Error: 0.32913403195435725\n",
      "Iteration: 28, Total Error: 0.3291311546349568\n",
      "Iteration: 29, Total Error: 0.3291293111801787\n",
      "Iteration: 30, Total Error: 0.32912812992620044\n",
      "Iteration: 31, Total Error: 0.3291273728841376\n"
     ]
    },
    {
     "data": {
      "image/png": "[encoded data removed]",
      "text/plain": [
       "<Figure size 640x480 with 1 Axes>"
      ]
     },
     "metadata": {},
     "output_type": "display_data"
    }
   ],
   "source": [
    "A_train, A_test, Y_train, Y_test = get_data(\"Dataset_1.csv\")\n",
    "\n",
    "t = 0\n",
    "epochs = 100\n",
    "tol = 1e-6\n",
    "last_total_error = 100\n",
    "total_error = 0\n",
    "costs = []\n",
    "alpha = 0.1\n",
    "weights = initialize_weights(A_train.shape[1])\n",
    "\n",
    "while (t < epochs and abs(last_total_error - total_error) > tol):\n",
    "    last_total_error = total_error\n",
    "    Y_pred = perceptron_forward_pass(A_train, weights)\n",
    "    gradient = adaline_gradient(Y_pred, A_train, Y_train)\n",
    "    weights -= alpha * gradient\n",
    "    total_error = mse_cost(Y_pred, Y_train)\n",
    "    costs.append(total_error)\n",
    "    print(f\"Iteration: {t}, Total Error: {total_error}\")\n",
    "    t += 1\n",
    "\n",
    "plot_costs(costs)"
   ]
  },
  {
   "cell_type": "code",
   "execution_count": 20,
   "metadata": {},
   "outputs": [
    {
     "name": "stdout",
     "output_type": "stream",
     "text": [
      "Train accuracy: 0.954954954954955, Train Misclassifications: 15\n",
      "Test accuracy: 0.9640718562874252, Test Misclassification: 6\n"
     ]
    }
   ],
   "source": [
    "train_preds = perceptron_forward_pass(A_train, weights)\n",
    "quant_train_preds = quantizer(train_preds)\n",
    "train_acc = accuracy_score(quant_train_preds, Y_train)\n",
    "print(f\"Train accuracy: {train_acc}, Train Misclassifications: {round((1 - train_acc) * len(Y_train))}\")\n",
    "\n",
    "test_preds = perceptron_forward_pass(A_test, weights)\n",
    "quant_test_preds = quantizer(test_preds)\n",
    "test_acc = accuracy_score(quant_test_preds, Y_test)\n",
    "print(f\"Test accuracy: {test_acc}, Test Misclassification: {round((1 - test_acc) * len(Y_test))}\")"
   ]
  },
  {
   "cell_type": "markdown",
   "metadata": {},
   "source": [
    "## See how Sk Learn Perceptron Performs"
   ]
  },
  {
   "cell_type": "code",
   "execution_count": 21,
   "metadata": {},
   "outputs": [
    {
     "name": "stdout",
     "output_type": "stream",
     "text": [
      "Train accuracy: 0.96996996996997, Train Misclassifications: 10\n",
      "Test accuracy: 0.9820359281437125, Test Misclassification: 3\n"
     ]
    },
    {
     "name": "stderr",
     "output_type": "stream",
     "text": [
      "c:\\Python311\\Lib\\site-packages\\sklearn\\utils\\validation.py:1408: DataConversionWarning: A column-vector y was passed when a 1d array was expected. Please change the shape of y to (n_samples, ), for example using ravel().\n",
      "  y = column_or_1d(y, warn=True)\n"
     ]
    }
   ],
   "source": [
    "clf = Perceptron(tol=tol, random_state=0)\n",
    "clf.fit(A_train[:,1:], Y_train)\n",
    "\n",
    "train_preds = clf.predict(A_train[:,1:])\n",
    "quant_train_preds = quantizer(train_preds)\n",
    "train_acc = accuracy_score(quant_train_preds, Y_train)\n",
    "print(f\"Train accuracy: {train_acc}, Train Misclassifications: {round((1 - train_acc) * len(Y_train))}\")\n",
    "\n",
    "test_preds = clf.predict(A_test[:,1:])\n",
    "quant_test_preds = quantizer(test_preds)\n",
    "test_acc = accuracy_score(quant_test_preds, Y_test)\n",
    "print(f\"Test accuracy: {test_acc}, Test Misclassification: {round((1 - test_acc) * len(Y_test))}\")"
   ]
  },
  {
   "cell_type": "markdown",
   "metadata": {},
   "source": [
    "## Dataset 2"
   ]
  },
  {
   "cell_type": "code",
   "execution_count": 22,
   "metadata": {},
   "outputs": [
    {
     "name": "stdout",
     "output_type": "stream",
     "text": [
      "Iteration: 0, Total Error: 2.699236716099819\n",
      "Iteration: 1, Total Error: 1.820231776256704\n",
      "Iteration: 2, Total Error: 1.2659187924198665\n",
      "Iteration: 3, Total Error: 0.9161222899135855\n",
      "Iteration: 4, Total Error: 0.6952313826706084\n",
      "Iteration: 5, Total Error: 0.5556436335126281\n",
      "Iteration: 6, Total Error: 0.4673704474871027\n",
      "Iteration: 7, Total Error: 0.4115070848144022\n",
      "Iteration: 8, Total Error: 0.376127995631366\n",
      "Iteration: 9, Total Error: 0.35370509385502685\n",
      "Iteration: 10, Total Error: 0.3394828993323281\n",
      "Iteration: 11, Total Error: 0.33045524709141866\n",
      "Iteration: 12, Total Error: 0.32472042531991085\n",
      "Iteration: 13, Total Error: 0.32107452222850963\n",
      "Iteration: 14, Total Error: 0.31875481438662323\n",
      "Iteration: 15, Total Error: 0.3172777242624183\n",
      "Iteration: 16, Total Error: 0.3163364233974267\n",
      "Iteration: 17, Total Error: 0.31573608024445043\n",
      "Iteration: 18, Total Error: 0.3153528834785702\n",
      "Iteration: 19, Total Error: 0.3151080919149181\n",
      "Iteration: 20, Total Error: 0.31495158836244697\n",
      "Iteration: 21, Total Error: 0.3148514488365216\n",
      "Iteration: 22, Total Error: 0.31478732189839126\n",
      "Iteration: 23, Total Error: 0.3147462231294935\n",
      "Iteration: 24, Total Error: 0.3147198616499649\n",
      "Iteration: 25, Total Error: 0.3147029392339872\n",
      "Iteration: 26, Total Error: 0.314692067341126\n",
      "Iteration: 27, Total Error: 0.31468507703148685\n",
      "Iteration: 28, Total Error: 0.3146805788807276\n",
      "Iteration: 29, Total Error: 0.314677682100827\n",
      "Iteration: 30, Total Error: 0.3146758151274996\n",
      "Iteration: 31, Total Error: 0.3146746109271132\n",
      "Iteration: 32, Total Error: 0.31467383361747553\n"
     ]
    },
    {
     "data": {
      "image/png": "[encoded data removed]",
      "text/plain": [
       "<Figure size 640x480 with 1 Axes>"
      ]
     },
     "metadata": {},
     "output_type": "display_data"
    }
   ],
   "source": [
    "A_train, A_test, Y_train, Y_test = get_data(\"Dataset_2.csv\")\n",
    "\n",
    "t = 0\n",
    "epochs = 100\n",
    "tol = 1e-6\n",
    "last_total_error = 100\n",
    "total_error = 0\n",
    "costs = []\n",
    "alpha = 0.1\n",
    "weights = initialize_weights(A_train.shape[1])\n",
    "\n",
    "while (t < epochs and abs(last_total_error - total_error) > tol):\n",
    "    last_total_error = total_error\n",
    "    Y_pred = perceptron_forward_pass(A_train, weights)\n",
    "    gradient = adaline_gradient(Y_pred, A_train, Y_train)\n",
    "    weights -= alpha * gradient\n",
    "    total_error = mse_cost(Y_pred, Y_train)\n",
    "    costs.append(total_error)\n",
    "    print(f\"Iteration: {t}, Total Error: {total_error}\")\n",
    "    t += 1\n",
    "\n",
    "plot_costs(costs)"
   ]
  },
  {
   "cell_type": "code",
   "execution_count": 23,
   "metadata": {},
   "outputs": [
    {
     "name": "stdout",
     "output_type": "stream",
     "text": [
      "Train accuracy: 0.9459459459459459, Train Misclassifications: 18\n",
      "Test accuracy: 0.9401197604790419, Test Misclassification: 10\n"
     ]
    }
   ],
   "source": [
    "train_preds = perceptron_forward_pass(A_train, weights)\n",
    "quant_train_preds = quantizer(train_preds)\n",
    "train_acc = accuracy_score(quant_train_preds, Y_train)\n",
    "print(f\"Train accuracy: {train_acc}, Train Misclassifications: {round((1 - train_acc) * len(Y_train))}\")\n",
    "\n",
    "test_preds = perceptron_forward_pass(A_test, weights)\n",
    "quant_test_preds = quantizer(test_preds)\n",
    "test_acc = accuracy_score(quant_test_preds, Y_test)\n",
    "print(f\"Test accuracy: {test_acc}, Test Misclassification: {round((1 - test_acc) * len(Y_test))}\")"
   ]
  },
  {
   "cell_type": "code",
   "execution_count": 24,
   "metadata": {},
   "outputs": [
    {
     "name": "stdout",
     "output_type": "stream",
     "text": [
      "Train accuracy: 0.960960960960961, Train Misclassifications: 13\n",
      "Test accuracy: 0.9461077844311377, Test Misclassification: 9\n"
     ]
    },
    {
     "name": "stderr",
     "output_type": "stream",
     "text": [
      "c:\\Python311\\Lib\\site-packages\\sklearn\\utils\\validation.py:1408: DataConversionWarning: A column-vector y was passed when a 1d array was expected. Please change the shape of y to (n_samples, ), for example using ravel().\n",
      "  y = column_or_1d(y, warn=True)\n"
     ]
    }
   ],
   "source": [
    "clf = Perceptron(tol=tol, random_state=0)\n",
    "clf.fit(A_train[:,1:], Y_train)\n",
    "\n",
    "train_preds = clf.predict(A_train[:,1:])\n",
    "quant_train_preds = quantizer(train_preds)\n",
    "train_acc = accuracy_score(quant_train_preds, Y_train)\n",
    "print(f\"Train accuracy: {train_acc}, Train Misclassifications: {round((1 - train_acc) * len(Y_train))}\")\n",
    "\n",
    "test_preds = clf.predict(A_test[:,1:])\n",
    "quant_test_preds = quantizer(test_preds)\n",
    "test_acc = accuracy_score(quant_test_preds, Y_test)\n",
    "print(f\"Test accuracy: {test_acc}, Test Misclassification: {round((1 - test_acc) * len(Y_test))}\")"
   ]
  },
  {
   "cell_type": "code",
   "execution_count": null,
   "metadata": {},
   "outputs": [],
   "source": []
  }
 ],
 "metadata": {
  "kernelspec": {
   "display_name": "Python 3",
   "language": "python",
   "name": "python3"
  },
  "language_info": {
   "codemirror_mode": {
    "name": "ipython",
    "version": 3
   },
   "file_extension": ".py",
   "mimetype": "text/x-python",
   "name": "python",
   "nbconvert_exporter": "python",
   "pygments_lexer": "ipython3",
   "version": "3.11.0"
  }
 },
 "nbformat": 4,
 "nbformat_minor": 2
}
